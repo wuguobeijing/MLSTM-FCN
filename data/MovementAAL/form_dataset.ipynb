{
 "cells": [
  {
   "cell_type": "code",
   "execution_count": 2,
   "metadata": {
    "collapsed": true
   },
   "outputs": [],
   "source": [
    "import numpy as np\n",
    "np.random.seed(1000)\n",
    "\n",
    "from scipy.io import loadmat\n",
    "\n",
    "ozone = r\"\"\n",
    "\n",
    "''' Load train set '''\n",
    "data_dict = loadmat(ozone + \"./MovementAAL.mat\")\n",
    "X_train_mat = data_dict['X_train'][0]\n",
    "y_train_mat = data_dict['Y_train'][0]\n",
    "X_test_mat = data_dict['X_test'][0]\n",
    "y_test_mat = data_dict['Y_test'][0]"
   ]
  },
  {
   "cell_type": "code",
   "execution_count": 8,
   "outputs": [
    {
     "name": "stdout",
     "output_type": "stream",
     "text": [
      "[[ 1.85037766  1.9540926   1.9540926   1.9540926   1.9540926   1.9540926\n",
      "   2.05778473  2.05778473  2.05778473  2.05778473  2.2651918   2.2651918\n",
      "   0.60595805  0.60595805  0.3985487   0.3985487   0.3985487   0.3985487\n",
      "   0.3985487  -0.7421765  -0.7421765  -0.7421765  -0.7421765  -0.7421765\n",
      "  -0.7421765   0.70965018  0.60595805  0.60595805  0.08744038  0.08744038\n",
      "   0.3985487  -0.53476943 -0.94958357  0.3985487   0.29484745  0.29484745\n",
      "   0.70965018  0.29484745  0.29484745  0.29484745 -1.6754969  -1.6754969\n",
      "   0.29484745  0.29484745 -0.11995529 -0.11995529 -0.01626088 -0.01626088\n",
      "  -0.22367023 -0.01626088 -0.01626088 -0.01626088 -0.22367023 -0.4310773\n",
      "  -0.01626088 -0.01626088 -0.01626088  0.3985487   0.3985487   0.3985487\n",
      "  -0.32736236 -0.32736236]\n",
      " [-0.09105921  1.39772163  0.10744639  1.69546886  0.40519809  0.80220483\n",
      "   1.09995206  1.39772163  0.90144646  0.90144646  0.80220483  1.09995206\n",
      "   1.19921603  1.19921603  1.39772163  1.7947105   1.09995206  1.39772163\n",
      "   0.50445089  1.09995206  0.80220483 -0.38880644  0.40519809  0.80220483\n",
      "  -0.38880644 -0.98432325  0.80220483  0.80220483  0.10744639 -0.09105921\n",
      "   0.40519809  0.00818242  0.30594753  0.80220483  0.00818242  0.50445089\n",
      "   0.20669472 -0.38880644  0.20669472 -0.38880644 -0.38880644 -0.28956481\n",
      "   0.30594753 -0.19030084 -0.09105921 -0.09105921 -0.09105921  0.40519809\n",
      "  -0.09105921 -0.68657601 -0.19030084 -0.28956481  0.00818242 -0.98432325\n",
      "  -1.67908168 -0.88508161 -0.68657601 -1.38133445 -0.38880644 -0.68657601\n",
      "  -0.68657601 -0.28956481]\n",
      " [-1.76187766 -1.11953228 -0.75247188 -0.47718691 -0.93600208 -0.38541149\n",
      "  -1.11953228 -1.21128706 -1.21128706 -0.93600208 -0.56894168 -1.39481726\n",
      "  -1.76187766 -1.11953228 -1.76187766 -0.75247188 -0.93600208 -0.38541149\n",
      "  -0.75247188 -1.02775686 -0.38541149 -0.11012651 -0.38541149 -0.01837173\n",
      "   0.16516466  0.44045789  0.44045789  0.34869279  0.07340369 -0.11012651\n",
      "  -0.11012651 -0.11012651 -0.11012651 -0.11012651 -0.01837173 -0.20188129\n",
      "  -0.66071711 -0.11012651 -0.01837173  0.07340369  0.07340369  0.25692976\n",
      "   0.44045789  0.44045789  0.44045789 -0.38541149  0.44045789  0.25692976\n",
      "   0.34869279 -0.84424731 -0.11012651 -0.38541149  0.44045789  0.25692976\n",
      "   0.25692976  0.44045789  0.44045789 -0.01837173  0.16516466 -0.38541149\n",
      "  -0.29365671  0.71574906]\n",
      " [-0.94091196 -0.94091196 -0.94091196 -0.94091196 -1.61800225 -0.65072716\n",
      "  -0.65072716 -0.65072716 -0.84419127 -0.65072716 -2.10165115 -2.10165115\n",
      "  -0.65072716 -0.65072716 -1.13437607 -1.13437607 -2.10165115 -2.10165115\n",
      "   0.12309063  0.21982042  0.21982042 -0.26382167 -0.26382167 -0.07035756\n",
      "  -0.26382167 -0.07035756 -0.07035756 -0.07035756 -0.07035756 -0.07035756\n",
      "   0.21982042  0.21982042  0.21982042  0.21982042  0.21982042  0.21982042\n",
      "   0.21982042  0.21982042  0.21982042  0.12309063  0.31654792  0.31654792\n",
      "   0.21982042  0.21982042  0.02636312  0.02636312  0.51001203  0.51001203\n",
      "   0.89691752  0.89691752  0.89691752  0.51001203  0.21982042  0.21982042\n",
      "   0.21982042  0.21982042  0.80019683 -0.55400647 -0.55400647  0.21982042\n",
      "   1.3805437   1.3805437 ]] 1\n"
     ]
    }
   ],
   "source": [
    "print(X_train_mat[1],y_train_mat[0])"
   ],
   "metadata": {
    "collapsed": false,
    "pycharm": {
     "name": "#%%\n"
    }
   }
  },
  {
   "cell_type": "code",
   "execution_count": 4,
   "outputs": [],
   "source": [
    "y_train = y_train_mat.reshape(-1, 1)\n",
    "y_test = y_test_mat.reshape(-1, 1)"
   ],
   "metadata": {
    "collapsed": false,
    "pycharm": {
     "name": "#%%\n"
    }
   }
  },
  {
   "cell_type": "code",
   "execution_count": 5,
   "outputs": [
    {
     "data": {
      "text/plain": "array([[1],\n       [1],\n       [0],\n       [1],\n       [1],\n       [0],\n       [0],\n       [1],\n       [1],\n       [0],\n       [1],\n       [1],\n       [1],\n       [0],\n       [1],\n       [1],\n       [1],\n       [1],\n       [1],\n       [1],\n       [1],\n       [1],\n       [1],\n       [1],\n       [0],\n       [0],\n       [1],\n       [0],\n       [0],\n       [0],\n       [1],\n       [1],\n       [1],\n       [0],\n       [1],\n       [1],\n       [0],\n       [1],\n       [1],\n       [1],\n       [0],\n       [0],\n       [0],\n       [0],\n       [0],\n       [1],\n       [0],\n       [1],\n       [1],\n       [0],\n       [0],\n       [0],\n       [1],\n       [1],\n       [1],\n       [0],\n       [0],\n       [1],\n       [0],\n       [1],\n       [1],\n       [0],\n       [0],\n       [0],\n       [1],\n       [1],\n       [1],\n       [0],\n       [0],\n       [0],\n       [1],\n       [0],\n       [1],\n       [1],\n       [0],\n       [1],\n       [1],\n       [1],\n       [0],\n       [0],\n       [0],\n       [0],\n       [0],\n       [0],\n       [1],\n       [0],\n       [1],\n       [0],\n       [1],\n       [1],\n       [1],\n       [1],\n       [1],\n       [0],\n       [1],\n       [0],\n       [0],\n       [0],\n       [1],\n       [1],\n       [0],\n       [0],\n       [0],\n       [1],\n       [0],\n       [1],\n       [1],\n       [0],\n       [1],\n       [0],\n       [1],\n       [1],\n       [0],\n       [0],\n       [1],\n       [0],\n       [1],\n       [0],\n       [0],\n       [1],\n       [0],\n       [0],\n       [1],\n       [0],\n       [1],\n       [0],\n       [1],\n       [1],\n       [0],\n       [0],\n       [0],\n       [0],\n       [1],\n       [0],\n       [0],\n       [0],\n       [0],\n       [1],\n       [1],\n       [1],\n       [0],\n       [0],\n       [0],\n       [0],\n       [0],\n       [0],\n       [0],\n       [0],\n       [1],\n       [1],\n       [1],\n       [0],\n       [0],\n       [1],\n       [0],\n       [1],\n       [1]], dtype=int64)"
     },
     "execution_count": 5,
     "metadata": {},
     "output_type": "execute_result"
    }
   ],
   "source": [
    "y_train"
   ],
   "metadata": {
    "collapsed": false,
    "pycharm": {
     "name": "#%%\n"
    }
   }
  },
  {
   "cell_type": "code",
   "execution_count": 6,
   "outputs": [
    {
     "data": {
      "text/plain": "23"
     },
     "execution_count": 6,
     "metadata": {},
     "output_type": "execute_result"
    }
   ],
   "source": [
    "var_list = []\n",
    "for i in range(X_train_mat.shape[0]):\n",
    "    var_count = X_train_mat[i].shape[-1]\n",
    "    var_list.append(var_count)\n",
    "var_count"
   ],
   "metadata": {
    "collapsed": false,
    "pycharm": {
     "name": "#%%\n"
    }
   }
  },
  {
   "cell_type": "code",
   "execution_count": 9,
   "outputs": [
    {
     "data": {
      "text/plain": "[25,\n 62,\n 57,\n 24,\n 44,\n 54,\n 26,\n 26,\n 45,\n 24,\n 27,\n 37,\n 41,\n 65,\n 55,\n 27,\n 64,\n 60,\n 39,\n 60,\n 61,\n 22,\n 60,\n 38,\n 58,\n 62,\n 39,\n 57,\n 26,\n 39,\n 56,\n 21,\n 42,\n 45,\n 50,\n 64,\n 64,\n 40,\n 52,\n 25,\n 23,\n 60,\n 32,\n 29,\n 37,\n 45,\n 35,\n 59,\n 24,\n 63,\n 29,\n 27,\n 60,\n 103,\n 24,\n 27,\n 64,\n 56,\n 25,\n 43,\n 26,\n 52,\n 23,\n 23,\n 41,\n 25,\n 56,\n 56,\n 68,\n 59,\n 29,\n 56,\n 46,\n 45,\n 29,\n 24,\n 36,\n 23,\n 25,\n 55,\n 23,\n 43,\n 20,\n 55,\n 46,\n 58,\n 41,\n 53,\n 66,\n 55,\n 42,\n 59,\n 62,\n 40,\n 26,\n 20,\n 41,\n 61,\n 50,\n 24,\n 61,\n 26,\n 27,\n 47,\n 35,\n 37,\n 55,\n 24,\n 41,\n 58,\n 39,\n 56,\n 65,\n 26,\n 41,\n 26,\n 42,\n 21,\n 41,\n 23,\n 23,\n 37,\n 27,\n 35,\n 23,\n 57,\n 40,\n 54,\n 61,\n 74,\n 37,\n 35,\n 44,\n 40,\n 39,\n 51,\n 65,\n 119,\n 24,\n 27,\n 27,\n 58,\n 25,\n 35,\n 23,\n 30,\n 22,\n 20,\n 42,\n 24,\n 25,\n 26,\n 27,\n 51,\n 59,\n 20,\n 23]"
     },
     "execution_count": 9,
     "metadata": {},
     "output_type": "execute_result"
    }
   ],
   "source": [
    "var_list"
   ],
   "metadata": {
    "collapsed": false,
    "pycharm": {
     "name": "#%%\n"
    }
   }
  },
  {
   "cell_type": "code",
   "execution_count": 10,
   "outputs": [
    {
     "data": {
      "text/plain": "25"
     },
     "execution_count": 10,
     "metadata": {},
     "output_type": "execute_result"
    }
   ],
   "source": [
    "X_train_mat[0].shape[1]"
   ],
   "metadata": {
    "collapsed": false,
    "pycharm": {
     "name": "#%%\n"
    }
   }
  },
  {
   "cell_type": "code",
   "execution_count": 11,
   "outputs": [],
   "source": [
    "var_list = np.array(var_list)\n",
    "max_nb_timesteps = var_list.max()\n",
    "min_nb_timesteps = var_list.min()\n",
    "median_nb_timesteps = np.median(var_list)"
   ],
   "metadata": {
    "collapsed": false,
    "pycharm": {
     "name": "#%%\n"
    }
   }
  },
  {
   "cell_type": "code",
   "execution_count": 12,
   "outputs": [],
   "source": [
    "X_train = np.zeros((X_train_mat.shape[0], X_train_mat[0].shape[0], max_nb_timesteps))"
   ],
   "metadata": {
    "collapsed": false,
    "pycharm": {
     "name": "#%%\n"
    }
   }
  },
  {
   "cell_type": "code",
   "execution_count": 13,
   "outputs": [
    {
     "data": {
      "text/plain": "(157, 4, 119)"
     },
     "execution_count": 13,
     "metadata": {},
     "output_type": "execute_result"
    }
   ],
   "source": [
    "X_train.shape"
   ],
   "metadata": {
    "collapsed": false,
    "pycharm": {
     "name": "#%%\n"
    }
   }
  },
  {
   "cell_type": "code",
   "execution_count": 14,
   "outputs": [
    {
     "data": {
      "text/plain": "array([[[ 0.84297841,  0.73435834,  0.51707257, ...,  0.        ,\n          0.        ,  0.        ],\n        [-0.89499684,  0.17692   ,  0.44489921, ...,  0.        ,\n          0.        ,  0.        ],\n        [-0.77869343, -1.27027522, -1.27027522, ...,  0.        ,\n          0.        ,  0.        ],\n        [-0.85144248, -1.41971915, -1.98799582, ...,  0.        ,\n          0.        ,  0.        ]],\n\n       [[ 1.85037766,  1.9540926 ,  1.9540926 , ...,  0.        ,\n          0.        ,  0.        ],\n        [-0.09105921,  1.39772163,  0.10744639, ...,  0.        ,\n          0.        ,  0.        ],\n        [-1.76187766, -1.11953228, -0.75247188, ...,  0.        ,\n          0.        ,  0.        ],\n        [-0.94091196, -0.94091196, -0.94091196, ...,  0.        ,\n          0.        ,  0.        ]],\n\n       [[ 0.34324167,  0.34324167,  0.03904615, ...,  0.        ,\n          0.        ,  0.        ],\n        [ 1.09995206,  1.09995206,  0.64188626, ...,  0.        ,\n          0.        ,  0.        ],\n        [ 0.11511247,  0.30281128,  0.20896084, ...,  0.        ,\n          0.        ,  0.        ],\n        [ 0.06321246,  0.06321246,  0.06321246, ...,  0.        ,\n          0.        ,  0.        ]],\n\n       ...,\n\n       [[ 1.66140474,  0.6474349 ,  0.6474349 , ...,  0.        ,\n          0.        ,  0.        ],\n        [ 0.06925935, -0.0452571 ,  0.52735418, ...,  0.        ,\n          0.        ,  0.        ],\n        [-0.07259046, -0.35413145, -0.07259046, ...,  0.        ,\n          0.        ,  0.        ],\n        [-0.47799379, -0.26152584, -0.26152584, ...,  0.        ,\n          0.        ,  0.        ]],\n\n       [[ 1.06026418,  0.29978451,  0.84297841, ...,  0.        ,\n          0.        ,  0.        ],\n        [ 2.05277448,  1.96344807,  2.23142729, ...,  0.        ,\n          0.        ,  0.        ],\n        [-0.87701392, -1.27027522, -1.36859571, ...,  0.        ,\n          0.        ,  0.        ],\n        [-0.96509782, -2.10165115, -1.19240848, ...,  0.        ,\n          0.        ,  0.        ]],\n\n       [[ 1.16890706,  1.16890706,  1.16890706, ...,  0.        ,\n          0.        ,  0.        ],\n        [ 1.87412167,  2.05277448,  1.78479527, ...,  0.        ,\n          0.        ,  0.        ],\n        [-0.87701392, -1.76187766, -0.87701392, ...,  0.        ,\n          0.        ,  0.        ],\n        [-1.98799582, -1.07875315, -1.07875315, ...,  0.        ,\n          0.        ,  0.        ]]])"
     },
     "execution_count": 14,
     "metadata": {},
     "output_type": "execute_result"
    }
   ],
   "source": [
    "# pad ending with zeros to get numpy arrays\n",
    "for i in range(X_train_mat.shape[0]):\n",
    "    var_count = X_train_mat[i].shape[-1]\n",
    "    if var_count == 0:\n",
    "        continue\n",
    "    X_train[i, :, :var_count] = X_train_mat[i]\n",
    "X_train"
   ],
   "metadata": {
    "collapsed": false,
    "pycharm": {
     "name": "#%%\n"
    }
   }
  },
  {
   "cell_type": "code",
   "execution_count": 15,
   "outputs": [],
   "source": [
    "X_test = np.zeros((X_test_mat.shape[0], X_test_mat[0].shape[0], max_nb_timesteps))\n",
    "\n",
    "# pad ending with zeros to get numpy arrays\n",
    "for i in range(X_test_mat.shape[0]):\n",
    "    var_count = X_test_mat[i].shape[-1]\n",
    "    X_test[i, :, :var_count] = X_test_mat[i][:, :max_nb_timesteps]"
   ],
   "metadata": {
    "collapsed": false,
    "pycharm": {
     "name": "#%%\n"
    }
   }
  },
  {
   "cell_type": "code",
   "execution_count": 16,
   "outputs": [
    {
     "name": "stdout",
     "output_type": "stream",
     "text": [
      "Train dataset :  (157, 4, 119) (157, 1)\n",
      "Test dataset :  (157, 4, 119) (157, 1)\n",
      "Train dataset metrics :  -0.0009534383208952703 0.5908842040794207\n",
      "Test dataset :  0.0009203184811322279 0.597433318281196\n",
      "Nb classes :  2\n"
     ]
    }
   ],
   "source": [
    "print(\"Train dataset : \", X_train.shape, y_train.shape)\n",
    "print(\"Test dataset : \", X_test.shape, y_test.shape)\n",
    "print(\"Train dataset metrics : \", X_train.mean(), X_train.std())\n",
    "print(\"Test dataset : \", X_test.mean(), X_test.std())\n",
    "print(\"Nb classes : \", len(np.unique(y_train)))"
   ],
   "metadata": {
    "collapsed": false,
    "pycharm": {
     "name": "#%%\n"
    }
   }
  },
  {
   "cell_type": "code",
   "execution_count": null,
   "outputs": [],
   "source": [],
   "metadata": {
    "collapsed": false,
    "pycharm": {
     "name": "#%%\n"
    }
   }
  }
 ],
 "metadata": {
  "kernelspec": {
   "display_name": "Python 3",
   "language": "python",
   "name": "python3"
  },
  "language_info": {
   "codemirror_mode": {
    "name": "ipython",
    "version": 2
   },
   "file_extension": ".py",
   "mimetype": "text/x-python",
   "name": "python",
   "nbconvert_exporter": "python",
   "pygments_lexer": "ipython2",
   "version": "2.7.6"
  }
 },
 "nbformat": 4,
 "nbformat_minor": 0
}