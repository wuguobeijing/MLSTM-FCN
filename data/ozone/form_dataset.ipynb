{
 "cells": [
  {
   "cell_type": "code",
   "execution_count": 1,
   "metadata": {
    "collapsed": true
   },
   "outputs": [],
   "source": [
    "import numpy as np\n",
    "np.random.seed(1000)\n",
    "\n",
    "from scipy.io import loadmat\n",
    "\n",
    "ozone = r\"\"\n",
    "\n",
    "''' Load train set '''\n",
    "data_dict = loadmat(ozone + \"./ozone.mat\")\n",
    "X_train_mat = data_dict['X_train'][0]\n",
    "y_train_mat = data_dict['Y_train'][0]\n",
    "X_test_mat = data_dict['X_test'][0]\n",
    "y_test_mat = data_dict['Y_test'][0]"
   ]
  },
  {
   "cell_type": "code",
   "execution_count": 20,
   "outputs": [
    {
     "name": "stdout",
     "output_type": "stream",
     "text": [
      "[[-0.11191011 -0.11191011  0.2022027  ...  1.45865394  0.0451463\n",
      "  -0.89719213]\n",
      " [-0.85834993 -0.3063804   0.24558913 ...  1.11296982  0.16673634\n",
      "  -0.77949714]\n",
      " [-0.92360271 -0.60107632  0.68902922 ...  0.76966081 -0.68170792\n",
      "  -0.92360271]\n",
      " ...\n",
      " [ 0.40091033  0.97504666  0.         ... -1.32149865 -2.46977131\n",
      "  -1.89563498]\n",
      " [ 0.70366093  0.84362933  0.         ... -1.53583341 -1.67580181\n",
      "   0.84362933]\n",
      " [-0.28183312 -0.28183312 -0.28183312 ...  0.46990329 -0.28183312\n",
      "  -0.28183312]] 1\n"
     ]
    }
   ],
   "source": [
    "print(X_train_mat[1],y_train_mat[0])"
   ],
   "metadata": {
    "collapsed": false,
    "pycharm": {
     "name": "#%%\n"
    }
   }
  },
  {
   "cell_type": "code",
   "execution_count": 3,
   "outputs": [],
   "source": [
    "y_train = y_train_mat.reshape(-1, 1)\n",
    "y_test = y_test_mat.reshape(-1, 1)"
   ],
   "metadata": {
    "collapsed": false,
    "pycharm": {
     "name": "#%%\n"
    }
   }
  },
  {
   "cell_type": "code",
   "execution_count": 6,
   "outputs": [
    {
     "data": {
      "text/plain": "array([[1],\n       [0],\n       [0],\n       [1],\n       [0],\n       [0],\n       [1],\n       [0],\n       [0],\n       [0],\n       [1],\n       [0],\n       [0],\n       [1],\n       [1],\n       [0],\n       [1],\n       [0],\n       [0],\n       [1],\n       [1],\n       [0],\n       [0],\n       [0],\n       [0],\n       [0],\n       [0],\n       [0],\n       [0],\n       [1],\n       [0],\n       [0],\n       [0],\n       [1],\n       [1],\n       [0],\n       [1],\n       [1],\n       [0],\n       [0],\n       [1],\n       [1],\n       [1],\n       [0],\n       [1],\n       [1],\n       [0],\n       [0],\n       [1],\n       [1],\n       [1],\n       [1],\n       [1],\n       [0],\n       [0],\n       [1],\n       [0],\n       [1],\n       [0],\n       [1],\n       [0],\n       [1],\n       [1],\n       [0],\n       [1],\n       [0],\n       [0],\n       [0],\n       [1],\n       [0],\n       [0],\n       [0],\n       [1],\n       [0],\n       [1],\n       [0],\n       [1],\n       [0],\n       [1],\n       [0],\n       [1],\n       [1],\n       [0],\n       [0],\n       [1],\n       [1],\n       [1],\n       [1],\n       [0],\n       [0],\n       [0],\n       [0],\n       [0],\n       [0],\n       [1],\n       [0],\n       [0],\n       [1],\n       [0],\n       [0],\n       [0],\n       [1],\n       [0],\n       [0],\n       [0],\n       [1],\n       [1],\n       [0],\n       [1],\n       [0],\n       [0],\n       [1],\n       [1],\n       [0],\n       [0],\n       [0],\n       [0],\n       [0],\n       [0],\n       [0],\n       [0],\n       [0],\n       [0],\n       [0],\n       [1],\n       [0],\n       [1],\n       [0],\n       [1],\n       [0],\n       [1],\n       [0],\n       [0],\n       [0],\n       [0],\n       [0],\n       [0],\n       [1],\n       [1],\n       [1],\n       [0],\n       [1],\n       [1],\n       [0],\n       [0],\n       [1],\n       [1],\n       [1],\n       [0],\n       [0],\n       [0],\n       [0],\n       [0],\n       [0],\n       [0],\n       [1],\n       [0],\n       [0],\n       [1],\n       [0],\n       [1],\n       [0],\n       [1],\n       [0],\n       [0],\n       [0],\n       [0],\n       [0],\n       [1],\n       [0],\n       [1],\n       [1],\n       [0]], dtype=int64)"
     },
     "execution_count": 6,
     "metadata": {},
     "output_type": "execute_result"
    }
   ],
   "source": [
    "y_train"
   ],
   "metadata": {
    "collapsed": false,
    "pycharm": {
     "name": "#%%\n"
    }
   }
  },
  {
   "cell_type": "code",
   "execution_count": 7,
   "outputs": [
    {
     "data": {
      "text/plain": "12"
     },
     "execution_count": 7,
     "metadata": {},
     "output_type": "execute_result"
    }
   ],
   "source": [
    "var_list = []\n",
    "for i in range(X_train_mat.shape[0]):\n",
    "    var_count = X_train_mat[i].shape[-1]\n",
    "    var_list.append(var_count)\n",
    "var_count"
   ],
   "metadata": {
    "collapsed": false,
    "pycharm": {
     "name": "#%%\n"
    }
   }
  },
  {
   "cell_type": "code",
   "execution_count": 8,
   "outputs": [
    {
     "data": {
      "text/plain": "[1,\n 14,\n 15,\n 1,\n 8,\n 62,\n 1,\n 1,\n 143,\n 37,\n 1,\n 0,\n 6,\n 1,\n 1,\n 6,\n 1,\n 4,\n 6,\n 1,\n 1,\n 18,\n 4,\n 15,\n 3,\n 9,\n 1,\n 27,\n 5,\n 10,\n 18,\n 137,\n 3,\n 1,\n 1,\n 1,\n 2,\n 2,\n 3,\n 5,\n 2,\n 1,\n 2,\n 25,\n 3,\n 1,\n 1,\n 1,\n 1,\n 5,\n 1,\n 1,\n 1,\n 1,\n 16,\n 1,\n 11,\n 1,\n 39,\n 1,\n 12,\n 2,\n 3,\n 4,\n 1,\n 1,\n 1,\n 10,\n 6,\n 8,\n 4,\n 18,\n 1,\n 1,\n 1,\n 35,\n 1,\n 4,\n 1,\n 62,\n 2,\n 1,\n 38,\n 1,\n 1,\n 1,\n 1,\n 2,\n 2,\n 24,\n 1,\n 291,\n 1,\n 27,\n 1,\n 1,\n 97,\n 2,\n 1,\n 15,\n 4,\n 1,\n 1,\n 1,\n 12,\n 1,\n 1,\n 1,\n 2,\n 1,\n 14,\n 1,\n 2,\n 1,\n 1,\n 83,\n 2,\n 10,\n 15,\n 1,\n 1,\n 13,\n 1,\n 6,\n 3,\n 119,\n 1,\n 3,\n 1,\n 14,\n 2,\n 59,\n 1,\n 8,\n 37,\n 1,\n 2,\n 1,\n 2,\n 1,\n 3,\n 1,\n 1,\n 61,\n 1,\n 3,\n 1,\n 2,\n 1,\n 12,\n 8,\n 11,\n 4,\n 8,\n 1,\n 1,\n 17,\n 1,\n 2,\n 1,\n 2,\n 22,\n 2,\n 14,\n 1,\n 1,\n 2,\n 6,\n 1,\n 291,\n 1,\n 6,\n 12]"
     },
     "execution_count": 8,
     "metadata": {},
     "output_type": "execute_result"
    }
   ],
   "source": [
    "var_list"
   ],
   "metadata": {
    "collapsed": false,
    "pycharm": {
     "name": "#%%\n"
    }
   }
  },
  {
   "cell_type": "code",
   "execution_count": 12,
   "outputs": [
    {
     "data": {
      "text/plain": "1"
     },
     "execution_count": 12,
     "metadata": {},
     "output_type": "execute_result"
    }
   ],
   "source": [
    "X_train_mat[0].shape[1]"
   ],
   "metadata": {
    "collapsed": false,
    "pycharm": {
     "name": "#%%\n"
    }
   }
  },
  {
   "cell_type": "code",
   "execution_count": 14,
   "outputs": [],
   "source": [
    "var_list = np.array(var_list)\n",
    "max_nb_timesteps = var_list.max()\n",
    "min_nb_timesteps = var_list.min()\n",
    "median_nb_timesteps = np.median(var_list)"
   ],
   "metadata": {
    "collapsed": false,
    "pycharm": {
     "name": "#%%\n"
    }
   }
  },
  {
   "cell_type": "code",
   "execution_count": 15,
   "outputs": [],
   "source": [
    "X_train = np.zeros((X_train_mat.shape[0], X_train_mat[0].shape[0], max_nb_timesteps))"
   ],
   "metadata": {
    "collapsed": false,
    "pycharm": {
     "name": "#%%\n"
    }
   }
  },
  {
   "cell_type": "code",
   "execution_count": 17,
   "outputs": [
    {
     "data": {
      "text/plain": "(173, 72, 291)"
     },
     "execution_count": 17,
     "metadata": {},
     "output_type": "execute_result"
    }
   ],
   "source": [
    "X_train.shape"
   ],
   "metadata": {
    "collapsed": false,
    "pycharm": {
     "name": "#%%\n"
    }
   }
  },
  {
   "cell_type": "code",
   "execution_count": 18,
   "outputs": [
    {
     "data": {
      "text/plain": "array([[[-1.05424854,  0.        ,  0.        , ...,  0.        ,\n          0.        ,  0.        ],\n        [-1.17376109,  0.        ,  0.        , ...,  0.        ,\n          0.        ,  0.        ],\n        [-1.0848659 ,  0.        ,  0.        , ...,  0.        ,\n          0.        ,  0.        ],\n        ...,\n        [ 0.59228911,  0.        ,  0.        , ...,  0.        ,\n          0.        ,  0.        ],\n        [-0.41608624,  0.        ,  0.        , ...,  0.        ,\n          0.        ,  0.        ],\n        [-0.28183312,  0.        ,  0.        , ...,  0.        ,\n          0.        ,  0.        ]],\n\n       [[-0.11191011, -0.11191011,  0.2022027 , ...,  0.        ,\n          0.        ,  0.        ],\n        [-0.85834993, -0.3063804 ,  0.24558913, ...,  0.        ,\n          0.        ,  0.        ],\n        [-0.92360271, -0.60107632,  0.68902922, ...,  0.        ,\n          0.        ,  0.        ],\n        ...,\n        [ 0.40091033,  0.97504666,  0.        , ...,  0.        ,\n          0.        ,  0.        ],\n        [ 0.70366093,  0.84362933,  0.        , ...,  0.        ,\n          0.        ,  0.        ],\n        [-0.28183312, -0.28183312, -0.28183312, ...,  0.        ,\n          0.        ,  0.        ]],\n\n       [[-1.21130494,  3.02921798,  3.5789154 , ...,  0.        ,\n          0.        ,  0.        ],\n        [-0.93720272,  3.08428956,  3.87281746, ...,  0.        ,\n          0.        ,  0.        ],\n        [-0.19791834,  2.62418753,  3.67239828, ...,  0.        ,\n          0.        ,  0.        ],\n        ...,\n        [ 0.78366789, -1.13011987, -2.37408192, ...,  0.        ,\n          0.        ,  0.        ],\n        [ 0.14378734, -2.79554898, -1.81577021, ...,  0.        ,\n          0.        ,  0.        ],\n        [-0.28183312,  0.181358  , -0.28183312, ...,  0.        ,\n          0.        ,  0.        ]],\n\n       ...,\n\n       [[-1.28983314,  0.        ,  0.        , ...,  0.        ,\n          0.        ,  0.        ],\n        [-0.77949714,  0.        ,  0.        , ...,  0.        ,\n          0.        ,  0.        ],\n        [-1.0848659 ,  0.        ,  0.        , ...,  0.        ,\n          0.        ,  0.        ],\n        ...,\n        [-0.36460477,  0.        ,  0.        , ...,  0.        ,\n          0.        ,  0.        ],\n        [-0.27611785,  0.        ,  0.        , ...,  0.        ,\n          0.        ,  0.        ],\n        [-0.28183312,  0.        ,  0.        , ...,  0.        ,\n          0.        ,  0.        ]],\n\n       [[ 1.38012574, -1.28983314,  1.61571034, ...,  0.        ,\n          0.        ,  0.        ],\n        [ 0.87641145, -0.93720272, -0.06982203, ...,  0.        ,\n          0.        ,  0.        ],\n        [ 0.52776603, -1.0042343 , -1.0042343 , ...,  0.        ,\n          0.        ,  0.        ],\n        ...,\n        [-0.9387411 , -1.32149865, -1.22580926, ...,  0.        ,\n          0.        ,  0.        ],\n        [-0.83599143, -0.55605464,  0.14378734, ...,  0.        ,\n          0.        ,  0.        ],\n        [-0.28183312, -0.28183312, -0.28183312, ...,  0.        ,\n          0.        ,  0.        ]],\n\n       [[ 0.43778731, -0.11191011, -0.34749471, ...,  0.        ,\n          0.        ,  0.        ],\n        [-0.54293877,  0.08788355, -0.14867482, ...,  0.        ,\n          0.        ,  0.        ],\n        [-0.68170792, -0.35918153, -0.19791834, ...,  0.        ,\n          0.        ,  0.        ],\n        ...,\n        [-0.36460477, -0.26891538, -0.07753661, ...,  0.        ,\n          0.        ,  0.        ],\n        [-0.55605464,  0.14378734,  0.28375574, ...,  0.        ,\n          0.        ,  0.        ],\n        [-0.25905323, -0.28183312,  0.10542503, ...,  0.        ,\n          0.        ,  0.        ]]])"
     },
     "execution_count": 18,
     "metadata": {},
     "output_type": "execute_result"
    }
   ],
   "source": [
    "# pad ending with zeros to get numpy arrays\n",
    "for i in range(X_train_mat.shape[0]):\n",
    "    var_count = X_train_mat[i].shape[-1]\n",
    "    if var_count == 0:\n",
    "        continue\n",
    "    X_train[i, :, :var_count] = X_train_mat[i]\n",
    "X_train"
   ],
   "metadata": {
    "collapsed": false,
    "pycharm": {
     "name": "#%%\n"
    }
   }
  },
  {
   "cell_type": "code",
   "execution_count": 21,
   "outputs": [],
   "source": [
    "X_test = np.zeros((X_test_mat.shape[0], X_test_mat[0].shape[0], max_nb_timesteps))\n",
    "\n",
    "# pad ending with zeros to get numpy arrays\n",
    "for i in range(X_test_mat.shape[0]):\n",
    "    var_count = X_test_mat[i].shape[-1]\n",
    "    X_test[i, :, :var_count] = X_test_mat[i][:, :max_nb_timesteps]"
   ],
   "metadata": {
    "collapsed": false,
    "pycharm": {
     "name": "#%%\n"
    }
   }
  }
 ],
 "metadata": {
  "kernelspec": {
   "display_name": "Python 3",
   "language": "python",
   "name": "python3"
  },
  "language_info": {
   "codemirror_mode": {
    "name": "ipython",
    "version": 2
   },
   "file_extension": ".py",
   "mimetype": "text/x-python",
   "name": "python",
   "nbconvert_exporter": "python",
   "pygments_lexer": "ipython2",
   "version": "2.7.6"
  }
 },
 "nbformat": 4,
 "nbformat_minor": 0
}